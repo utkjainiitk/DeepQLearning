{
 "cells": [
  {
   "cell_type": "code",
   "execution_count": 1,
   "id": "bb725d73",
   "metadata": {},
   "outputs": [],
   "source": [
    "import gym\n",
    "import numpy as np; np.random.seed(0)"
   ]
  },
  {
   "cell_type": "code",
   "execution_count": 4,
   "id": "28ee003a",
   "metadata": {},
   "outputs": [],
   "source": [
    "env = gym.make('FrozenLake-v0')"
   ]
  },
  {
   "cell_type": "code",
   "execution_count": 5,
   "id": "bb89f88f",
   "metadata": {},
   "outputs": [
    {
     "data": {
      "text/plain": [
       "Discrete(4)"
      ]
     },
     "execution_count": 5,
     "metadata": {},
     "output_type": "execute_result"
    }
   ],
   "source": [
    "env.action_space"
   ]
  },
  {
   "cell_type": "code",
   "execution_count": 6,
   "id": "ac125a01",
   "metadata": {},
   "outputs": [
    {
     "data": {
      "text/plain": [
       "Discrete(16)"
      ]
     },
     "execution_count": 6,
     "metadata": {},
     "output_type": "execute_result"
    }
   ],
   "source": [
    "env.observation_space"
   ]
  },
  {
   "cell_type": "code",
   "execution_count": 7,
   "id": "c4c39c8a",
   "metadata": {},
   "outputs": [],
   "source": [
    "s_0 = env.reset()"
   ]
  },
  {
   "cell_type": "code",
   "execution_count": 8,
   "id": "553e75ee",
   "metadata": {},
   "outputs": [
    {
     "name": "stdout",
     "output_type": "stream",
     "text": [
      "0 0 0.0 False {'prob': 0.3333333333333333}\n"
     ]
    }
   ],
   "source": [
    "a_t = env.action_space.sample()\n",
    "s_t_next, r_t, d_t, info = env.step(a_t)\n",
    "print(a_t,s_t_next, r_t, d_t, info)"
   ]
  },
  {
   "cell_type": "code",
   "execution_count": 11,
   "id": "ab1043a7",
   "metadata": {},
   "outputs": [],
   "source": [
    "env = gym.make('FrozenLake-v0')\n",
    "s_t = env.reset()\n",
    "for t in range(1000):\n",
    "    # no policy defined, just randomly sample actions\n",
    "    a_t = env.action_space.sample()\n",
    "    s_t, r_t, d_t, _ = env.step(a_t)\n",
    "    if d_t:\n",
    "        s_t = env.reset()"
   ]
  },
  {
   "cell_type": "code",
   "execution_count": 12,
   "id": "c9ae3ed7",
   "metadata": {},
   "outputs": [
    {
     "name": "stdout",
     "output_type": "stream",
     "text": [
      "  (Down)\n",
      "S\u001b[41mF\u001b[0mFF\n",
      "FHFH\n",
      "FFFH\n",
      "HFFG\n"
     ]
    }
   ],
   "source": [
    "env.render()"
   ]
  },
  {
   "cell_type": "code",
   "execution_count": 24,
   "id": "e089e541",
   "metadata": {},
   "outputs": [
    {
     "name": "stdout",
     "output_type": "stream",
     "text": [
      "  (Right)\n",
      "SFFF\n",
      "F\u001b[41mH\u001b[0mFH\n",
      "FFFH\n",
      "HFFG\n"
     ]
    }
   ],
   "source": [
    "env.step(env.action_space.sample())\n",
    "env.render()"
   ]
  },
  {
   "cell_type": "code",
   "execution_count": 2,
   "id": "2c434e8c",
   "metadata": {},
   "outputs": [],
   "source": [
    "class Qlearner:\n",
    "    def __init__(self, env, epsilon, alpha, gamma):\n",
    "        self.N = env.action_space.n\n",
    "        self.M = env.observation_space.n\n",
    "        self.Q = np.zeros((self.M),(self.N))\n",
    "        self.epsilon = epsilon\n",
    "        self.gamma = gamma\n",
    "        self.alpha = alpha\n",
    "        \n",
    "    def act(self, s_t):\n",
    "        if np.random.rand() < epsilon:\n",
    "            return np.random.choice(self.N)\n",
    "        else:\n",
    "            return np.argmax(self.Q[s_t])\n",
    "        \n",
    "    def learn(self, s_t, a_t, r_t, s_t_next, d_t):\n",
    "        a_t_next = np.argmax(self.Q[s_t_next])\n",
    "        Q_target = r_t + self.gamma*(1-d_t)*self.Q[s_t_next, a_t_next]\n",
    "        self.Q[s_t, a_t] = (1-self.alpha)*self.Q[s_t, a_t] + self.alpha*(Q_target)"
   ]
  },
  {
   "cell_type": "code",
   "execution_count": null,
   "id": "c72351be",
   "metadata": {},
   "outputs": [],
   "source": [
    "def train(env,q1,T=10000):\n",
    "    for t in range(T):\n",
    "        a_t = q1.act(s_t)\n",
    "        s_t_next, r_t, d_t, _ = env.step(a_t)\n",
    "        q1.learn(s_t,t,a_t,r_t,d_t,s_t_next,d_t)\n",
    "        id d_t:\n",
    "            s_t = env.reset()"
   ]
  }
 ],
 "metadata": {
  "kernelspec": {
   "display_name": "Python 3",
   "language": "python",
   "name": "python3"
  },
  "language_info": {
   "codemirror_mode": {
    "name": "ipython",
    "version": 3
   },
   "file_extension": ".py",
   "mimetype": "text/x-python",
   "name": "python",
   "nbconvert_exporter": "python",
   "pygments_lexer": "ipython3",
   "version": "3.8.0"
  }
 },
 "nbformat": 4,
 "nbformat_minor": 5
}
