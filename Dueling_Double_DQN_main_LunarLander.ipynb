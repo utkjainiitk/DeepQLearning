{
 "cells": [
  {
   "cell_type": "code",
   "execution_count": null,
   "id": "0fabec7d",
   "metadata": {},
   "outputs": [],
   "source": [
    "import gym\n",
    "import numpy as np\n",
    "from dueling_ddqn_torch import Agent\n",
    "from utils import plotLearning"
   ]
  },
  {
   "cell_type": "code",
   "execution_count": null,
   "id": "802ef350",
   "metadata": {},
   "outputs": [],
   "source": [
    "if __name__ == '__main__':\n",
    "    env = gym.make('LunarLander-v2')\n",
    "    num_games = 250\n",
    "    load_checkpoint = False\n",
    "\n",
    "    agent = Agent(gamma=0.99, epsilon=1.0, lr=5e-4,\n",
    "                  input_dims=[8], n_actions=4, mem_size=100000, eps_min=0.01,\n",
    "                  batch_size=64, eps_dec=1e-3, replace=100)\n",
    "\n",
    "    if load_checkpoint:\n",
    "        agent.load_models()\n",
    "\n",
    "    filename = 'LunarLander-Dueling-DDQN-512-Adam-lr0005-replace100.png'\n",
    "    scores = []\n",
    "    eps_history = []\n",
    "    n_steps = 0\n",
    "\n",
    "    for i in range(num_games):\n",
    "        done = False\n",
    "        observation = env.reset()\n",
    "        score = 0\n",
    "\n",
    "        while not done:\n",
    "            action = agent.choose_action(observation)\n",
    "            observation_, reward, done, info = env.step(action)\n",
    "            score += reward\n",
    "            agent.store_transition(observation, action,\n",
    "                                    reward, observation_, int(done))\n",
    "            agent.learn()\n",
    "\n",
    "            observation = observation_\n",
    "\n",
    "        scores.append(score)\n",
    "        avg_score = np.mean(scores[max(0, i-100):(i+1)])\n",
    "        print('episode: ', i,'score %.1f ' % score,\n",
    "             ' average score %.1f' % avg_score,\n",
    "            'epsilon %.2f' % agent.epsilon)\n",
    "        if i > 0 and i % 10 == 0:\n",
    "            agent.save_models()\n",
    "\n",
    "        eps_history.append(agent.epsilon)\n",
    "\n",
    "    x = [i+1 for i in range(num_games)]\n",
    "    plotLearning(x, scores, eps_history, filename)"
   ]
  }
 ],
 "metadata": {
  "kernelspec": {
   "display_name": "Python 3",
   "language": "python",
   "name": "python3"
  },
  "language_info": {
   "codemirror_mode": {
    "name": "ipython",
    "version": 3
   },
   "file_extension": ".py",
   "mimetype": "text/x-python",
   "name": "python",
   "nbconvert_exporter": "python",
   "pygments_lexer": "ipython3",
   "version": "3.8.0"
  }
 },
 "nbformat": 4,
 "nbformat_minor": 5
}
